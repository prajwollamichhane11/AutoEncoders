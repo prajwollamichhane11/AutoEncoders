{
 "cells": [
  {
   "cell_type": "code",
   "execution_count": 1,
   "metadata": {},
   "outputs": [],
   "source": [
    "import tensorflow as tf\n",
    "from tensorflow.keras.datasets import mnist"
   ]
  },
  {
   "cell_type": "code",
   "execution_count": 2,
   "metadata": {},
   "outputs": [],
   "source": [
    "import numpy as np"
   ]
  },
  {
   "cell_type": "code",
   "execution_count": 3,
   "metadata": {},
   "outputs": [],
   "source": [
    "(X_train,_),(X_test,_) = mnist.load_data()"
   ]
  },
  {
   "cell_type": "code",
   "execution_count": 4,
   "metadata": {},
   "outputs": [],
   "source": [
    "# Noramlizing between -0.5 and 0.5\n",
    "X_train = X_train.astype('float32')/255 - 0.5\n",
    "X_test = X_test.astype('float32')/255 - 0.5"
   ]
  },
  {
   "cell_type": "code",
   "execution_count": 5,
   "metadata": {},
   "outputs": [],
   "source": [
    "X_train = X_train\n",
    "X_test = X_test"
   ]
  },
  {
   "cell_type": "code",
   "execution_count": 6,
   "metadata": {},
   "outputs": [],
   "source": [
    "from tensorflow.keras.models import Model, Sequential\n",
    "from tensorflow.keras.layers import Dense, Input, Reshape, Flatten"
   ]
  },
  {
   "cell_type": "code",
   "execution_count": 7,
   "metadata": {},
   "outputs": [],
   "source": [
    "img_shape = X_train[0].shape"
   ]
  },
  {
   "cell_type": "code",
   "execution_count": 8,
   "metadata": {},
   "outputs": [],
   "source": [
    "encoding_dim = 32"
   ]
  },
  {
   "cell_type": "code",
   "execution_count": 9,
   "metadata": {},
   "outputs": [],
   "source": [
    "encoder = Sequential()\n",
    "encoder.add(Input(img_shape))\n",
    "encoder.add(Flatten())\n",
    "encoder.add(Dense(encoding_dim))"
   ]
  },
  {
   "cell_type": "code",
   "execution_count": 10,
   "metadata": {},
   "outputs": [],
   "source": [
    "decoder = Sequential()\n",
    "decoder.add(Input(encoding_dim))\n",
    "decoder.add(Dense(np.prod(img_shape)))\n",
    "decoder.add(Reshape(img_shape))"
   ]
  },
  {
   "cell_type": "code",
   "execution_count": 11,
   "metadata": {},
   "outputs": [],
   "source": [
    "input_ = Input(img_shape)"
   ]
  },
  {
   "cell_type": "code",
   "execution_count": 12,
   "metadata": {},
   "outputs": [],
   "source": [
    "#Using Latent to get the output\n",
    "bottleneck = encoder(input_)\n",
    "reconstruction = decoder(bottleneck)"
   ]
  },
  {
   "cell_type": "markdown",
   "metadata": {},
   "source": [
    "### If Using the AutoEncoder as a single model\n",
    "But here, we can't use the latent variable for other operations\n",
    "That's why we use encoder and decoder separately."
   ]
  },
  {
   "cell_type": "code",
   "execution_count": 13,
   "metadata": {},
   "outputs": [],
   "source": [
    "# While using the encoder and decoder at once\n",
    "#Using a Single Dense Layer\n",
    "autoencoder = Sequential()\n",
    "autoencoder.add(Input(img_shape))\n",
    "autoencoder.add(Flatten())\n",
    "autoencoder.add(Dense(encoding_dim))\n",
    "autoencoder.add(Dense(np.prod(img_shape)))\n",
    "autoencoder.add(Reshape(img_shape))"
   ]
  },
  {
   "cell_type": "code",
   "execution_count": 14,
   "metadata": {},
   "outputs": [],
   "source": [
    "#this is the input and output\n",
    "autoencoder = Model(input_,reconstruction)"
   ]
  },
  {
   "cell_type": "code",
   "execution_count": 26,
   "metadata": {},
   "outputs": [],
   "source": [
    "autoencoder.compile(\n",
    "    optimizer='adam',\n",
    "    loss='mean_squared_error',\n",
    "    metrics=['accuracy']\n",
    ")"
   ]
  },
  {
   "cell_type": "code",
   "execution_count": 16,
   "metadata": {},
   "outputs": [],
   "source": [
    "# Lets keep model checkpoints and callbacks\n",
    "from tensorflow.keras.callbacks import ModelCheckpoint, TensorBoard"
   ]
  },
  {
   "cell_type": "code",
   "execution_count": 17,
   "metadata": {},
   "outputs": [],
   "source": [
    "checkpoints = ModelCheckpoint(\n",
    "    filepath='model.h5',\n",
    "    verbose=1,\n",
    "    save_best_only=True #Best Model is saved on longer training\n",
    ")"
   ]
  },
  {
   "cell_type": "code",
   "execution_count": 18,
   "metadata": {},
   "outputs": [],
   "source": [
    "tb = TensorBoard(\n",
    "    log_dir=\"./logs\",\n",
    "    write_graph=True\n",
    ")"
   ]
  },
  {
   "cell_type": "code",
   "execution_count": 19,
   "metadata": {},
   "outputs": [
    {
     "name": "stdout",
     "output_type": "stream",
     "text": [
      "Train on 60000 samples, validate on 10000 samples\n",
      "Epoch 1/10\n",
      "59136/60000 [============================>.] - ETA: 0s - loss: 0.0566 - accuracy: 0.1448\n",
      "Epoch 00001: val_loss improved from inf to 0.03124, saving model to model.h5\n",
      "60000/60000 [==============================] - 2s 31us/sample - loss: 0.0562 - accuracy: 0.1457 - val_loss: 0.0312 - val_accuracy: 0.2044\n",
      "Epoch 2/10\n",
      "59648/60000 [============================>.] - ETA: 0s - loss: 0.0265 - accuracy: 0.2276\n",
      "Epoch 00002: val_loss improved from 0.03124 to 0.02211, saving model to model.h5\n",
      "60000/60000 [==============================] - 1s 19us/sample - loss: 0.0265 - accuracy: 0.2276 - val_loss: 0.0221 - val_accuracy: 0.2396\n",
      "Epoch 3/10\n",
      "59392/60000 [============================>.] - ETA: 0s - loss: 0.0208 - accuracy: 0.2501\n",
      "Epoch 00003: val_loss improved from 0.02211 to 0.01902, saving model to model.h5\n",
      "60000/60000 [==============================] - 1s 21us/sample - loss: 0.0208 - accuracy: 0.2502 - val_loss: 0.0190 - val_accuracy: 0.2503\n",
      "Epoch 4/10\n",
      "57856/60000 [===========================>..] - ETA: 0s - loss: 0.0189 - accuracy: 0.2579\n",
      "Epoch 00004: val_loss improved from 0.01902 to 0.01800, saving model to model.h5\n",
      "60000/60000 [==============================] - 1s 21us/sample - loss: 0.0189 - accuracy: 0.2581 - val_loss: 0.0180 - val_accuracy: 0.2557\n",
      "Epoch 5/10\n",
      "59648/60000 [============================>.] - ETA: 0s - loss: 0.0183 - accuracy: 0.2614\n",
      "Epoch 00005: val_loss improved from 0.01800 to 0.01765, saving model to model.h5\n",
      "60000/60000 [==============================] - 1s 19us/sample - loss: 0.0183 - accuracy: 0.2612 - val_loss: 0.0177 - val_accuracy: 0.2579\n",
      "Epoch 6/10\n",
      "58368/60000 [============================>.] - ETA: 0s - loss: 0.0180 - accuracy: 0.2617\n",
      "Epoch 00006: val_loss improved from 0.01765 to 0.01749, saving model to model.h5\n",
      "60000/60000 [==============================] - 1s 21us/sample - loss: 0.0180 - accuracy: 0.2617 - val_loss: 0.0175 - val_accuracy: 0.2568\n",
      "Epoch 7/10\n",
      "57600/60000 [===========================>..] - ETA: 0s - loss: 0.0179 - accuracy: 0.2611\n",
      "Epoch 00007: val_loss improved from 0.01749 to 0.01741, saving model to model.h5\n",
      "60000/60000 [==============================] - 1s 23us/sample - loss: 0.0179 - accuracy: 0.2611 - val_loss: 0.0174 - val_accuracy: 0.2574\n",
      "Epoch 8/10\n",
      "58880/60000 [============================>.] - ETA: 0s - loss: 0.0179 - accuracy: 0.2614\n",
      "Epoch 00008: val_loss did not improve from 0.01741\n",
      "60000/60000 [==============================] - 1s 21us/sample - loss: 0.0179 - accuracy: 0.2616 - val_loss: 0.0175 - val_accuracy: 0.2585\n",
      "Epoch 9/10\n",
      "57856/60000 [===========================>..] - ETA: 0s - loss: 0.0178 - accuracy: 0.2623\n",
      "Epoch 00009: val_loss improved from 0.01741 to 0.01740, saving model to model.h5\n",
      "60000/60000 [==============================] - 1s 19us/sample - loss: 0.0178 - accuracy: 0.2623 - val_loss: 0.0174 - val_accuracy: 0.2588\n",
      "Epoch 10/10\n",
      "58112/60000 [============================>.] - ETA: 0s - loss: 0.0178 - accuracy: 0.2632\n",
      "Epoch 00010: val_loss improved from 0.01740 to 0.01734, saving model to model.h5\n",
      "60000/60000 [==============================] - 1s 20us/sample - loss: 0.0178 - accuracy: 0.2631 - val_loss: 0.0173 - val_accuracy: 0.2623\n"
     ]
    }
   ],
   "source": [
    "#Since we are reconstructing the same image the X and the Y are the same\n",
    "history = autoencoder.fit(\n",
    "    X_train,\n",
    "    X_train,\n",
    "    epochs=10,\n",
    "    batch_size=256,\n",
    "    shuffle=True,\n",
    "    validation_data=(X_test,X_test),\n",
    "    verbose=1,\n",
    "    callbacks=[checkpoints, tb]\n",
    ")"
   ]
  },
  {
   "cell_type": "code",
   "execution_count": 20,
   "metadata": {},
   "outputs": [],
   "source": [
    "import matplotlib.pyplot as plt"
   ]
  },
  {
   "cell_type": "code",
   "execution_count": 21,
   "metadata": {},
   "outputs": [],
   "source": [
    "def show(x):\n",
    "    plt.imshow(np.clip(x+0.5,0,1))"
   ]
  },
  {
   "cell_type": "code",
   "execution_count": 22,
   "metadata": {},
   "outputs": [
    {
     "data": {
      "image/png": "[encoded data removed]",
      "text/plain": [
       "<Figure size 432x288 with 1 Axes>"
      ]
     },
     "metadata": {
      "needs_background": "light"
     },
     "output_type": "display_data"
    }
   ],
   "source": [
    "show(X_train[0])"
   ]
  },
  {
   "cell_type": "code",
   "execution_count": 23,
   "metadata": {},
   "outputs": [
    {
     "data": {
      "text/plain": [
       "array([[[-0.49607334, -0.49627385, -0.4961737 , ..., -0.4965054 ,\n",
       "         -0.49626476, -0.4967671 ],\n",
       "        [-0.49612638, -0.49636626, -0.4966966 , ..., -0.49644122,\n",
       "         -0.4966285 , -0.49631315],\n",
       "        [-0.49655724, -0.4963007 , -0.49629998, ..., -0.4962374 ,\n",
       "         -0.49631476, -0.49644428],\n",
       "        ...,\n",
       "        [-0.49626088, -0.49619704, -0.49660873, ..., -0.4961579 ,\n",
       "         -0.4966013 , -0.4961949 ],\n",
       "        [-0.4965025 , -0.49661103, -0.4963137 , ..., -0.49616137,\n",
       "         -0.4962073 , -0.49627808],\n",
       "        [-0.4964912 , -0.4964354 , -0.49680358, ..., -0.49606547,\n",
       "         -0.49644077, -0.4962737 ]],\n",
       "\n",
       "       [[-0.4731566 , -0.47363222, -0.47357017, ..., -0.47337243,\n",
       "         -0.47304094, -0.47385103],\n",
       "        [-0.47346702, -0.4730119 , -0.47368586, ..., -0.4734965 ,\n",
       "         -0.4735794 , -0.47358608],\n",
       "        [-0.4737493 , -0.47275844, -0.47318432, ..., -0.4733204 ,\n",
       "         -0.4733351 , -0.47356275],\n",
       "        ...,\n",
       "        [-0.47317904, -0.4734469 , -0.4734355 , ..., -0.47340903,\n",
       "         -0.47334114, -0.47338688],\n",
       "        [-0.4734572 , -0.473523  , -0.47340107, ..., -0.47304922,\n",
       "         -0.4732672 , -0.47323456],\n",
       "        [-0.4735612 , -0.47341207, -0.4738784 , ..., -0.4732805 ,\n",
       "         -0.4734347 , -0.47347635]],\n",
       "\n",
       "       [[-0.49370217, -0.49408   , -0.49397126, ..., -0.4938973 ,\n",
       "         -0.4937386 , -0.49424052],\n",
       "        [-0.49380693, -0.49377176, -0.49403068, ..., -0.49391976,\n",
       "         -0.49403974, -0.4942548 ],\n",
       "        [-0.49412382, -0.49359456, -0.4937622 , ..., -0.49370825,\n",
       "         -0.49377885, -0.49399152],\n",
       "        ...,\n",
       "        [-0.49384397, -0.49396408, -0.49413243, ..., -0.49381104,\n",
       "         -0.49406368, -0.4938157 ],\n",
       "        [-0.49384037, -0.49402723, -0.49371606, ..., -0.49369887,\n",
       "         -0.49381244, -0.4937796 ],\n",
       "        [-0.4939434 , -0.49384055, -0.4942156 , ..., -0.49371338,\n",
       "         -0.4938478 , -0.49406463]],\n",
       "\n",
       "       ...,\n",
       "\n",
       "       [[-0.48861736, -0.4891264 , -0.4889967 , ..., -0.4881494 ,\n",
       "         -0.48758775, -0.48855513],\n",
       "        [-0.48875996, -0.48817444, -0.4884124 , ..., -0.4887259 ,\n",
       "         -0.48828527, -0.48933205],\n",
       "        [-0.48847225, -0.48775387, -0.48784077, ..., -0.48741823,\n",
       "         -0.48762673, -0.48850247],\n",
       "        ...,\n",
       "        [-0.48731694, -0.4889716 , -0.48865932, ..., -0.48877797,\n",
       "         -0.4885182 , -0.488578  ],\n",
       "        [-0.4881634 , -0.48879355, -0.48788267, ..., -0.48784688,\n",
       "         -0.48864073, -0.4872111 ],\n",
       "        [-0.4881186 , -0.4876884 , -0.48856017, ..., -0.4886036 ,\n",
       "         -0.48813137, -0.48906133]],\n",
       "\n",
       "       [[-0.49089664, -0.49135563, -0.49123797, ..., -0.49034762,\n",
       "         -0.49000704, -0.4907511 ],\n",
       "        [-0.49102476, -0.49030855, -0.49069288, ..., -0.490851  ,\n",
       "         -0.49059904, -0.4913867 ],\n",
       "        [-0.49076667, -0.49022362, -0.49008057, ..., -0.490003  ,\n",
       "         -0.48997894, -0.49069795],\n",
       "        ...,\n",
       "        [-0.49006194, -0.49125427, -0.4908152 , ..., -0.4909883 ,\n",
       "         -0.49055564, -0.49081638],\n",
       "        [-0.4904791 , -0.490898  , -0.49027377, ..., -0.48999497,\n",
       "         -0.49082774, -0.4898586 ],\n",
       "        [-0.49032912, -0.49006653, -0.49074298, ..., -0.4908757 ,\n",
       "         -0.49035615, -0.49136475]],\n",
       "\n",
       "       [[-0.47898507, -0.4792885 , -0.4793699 , ..., -0.47820714,\n",
       "         -0.47758716, -0.47866243],\n",
       "        [-0.47923148, -0.47834027, -0.47867563, ..., -0.47912496,\n",
       "         -0.47824395, -0.47921935],\n",
       "        [-0.47851092, -0.4780916 , -0.47782552, ..., -0.47759894,\n",
       "         -0.4774797 , -0.47852165],\n",
       "        ...,\n",
       "        [-0.47752553, -0.47919607, -0.47885662, ..., -0.4792025 ,\n",
       "         -0.478603  , -0.4790128 ],\n",
       "        [-0.4784301 , -0.4791145 , -0.47816235, ..., -0.47787076,\n",
       "         -0.47909507, -0.4770768 ],\n",
       "        [-0.47815645, -0.47752035, -0.47854102, ..., -0.47899964,\n",
       "         -0.4783008 , -0.47911185]]], dtype=float32)"
      ]
     },
     "execution_count": 23,
     "metadata": {},
     "output_type": "execute_result"
    }
   ],
   "source": [
    "#expects batch size show like 1*28*28 but we have not give a batch size so, we add none\n",
    "autoencoder.predict(X_test[None][0])"
   ]
  },
  {
   "cell_type": "code",
   "execution_count": 37,
   "metadata": {},
   "outputs": [],
   "source": [
    "def visualize(img,encoder,decoder):\n",
    "    bottleneck = encoder.predict(img[None])[0]\n",
    "    print(bottleneck.shape)\n",
    "    print(bottleneck[None].shape)\n",
    "    reconstruction = decoder.predict(bottleneck[None])[0]\n",
    "    \n",
    "    plt.subplot(1,3,1)\n",
    "    show(img)\n",
    "    \n",
    "    plt.subplot(1,3,2)\n",
    "    plt.imshow(bottleneck.reshape((bottleneck.shape[-1],1)))\n",
    "    \n",
    "    plt.subplot(1,3,3)\n",
    "    plt.imshow(reconstruction)\n",
    "    \n",
    "    plt.show()\n",
    "    "
   ]
  },
  {
   "cell_type": "code",
   "execution_count": 38,
   "metadata": {},
   "outputs": [
    {
     "name": "stdout",
     "output_type": "stream",
     "text": [
      "(32,)\n",
      "(1, 32)\n"
     ]
    },
    {
     "data": {
      "image/png": "[encoded data removed]",
      "text/plain": [
       "<Figure size 432x288 with 3 Axes>"
      ]
     },
     "metadata": {
      "needs_background": "light"
     },
     "output_type": "display_data"
    },
    {
     "name": "stdout",
     "output_type": "stream",
     "text": [
      "(32,)\n",
      "(1, 32)\n"
     ]
    },
    {
     "data": {
      "image/png": "[encoded data removed]",
      "text/plain": [
       "<Figure size 432x288 with 3 Axes>"
      ]
     },
     "metadata": {
      "needs_background": "light"
     },
     "output_type": "display_data"
    },
    {
     "name": "stdout",
     "output_type": "stream",
     "text": [
      "(32,)\n",
      "(1, 32)\n"
     ]
    },
    {
     "data": {
      "image/png": "[encoded data removed]",
      "text/plain": [
       "<Figure size 432x288 with 3 Axes>"
      ]
     },
     "metadata": {
      "needs_background": "light"
     },
     "output_type": "display_data"
    },
    {
     "name": "stdout",
     "output_type": "stream",
     "text": [
      "(32,)\n",
      "(1, 32)\n"
     ]
    },
    {
     "data": {
      "image/png": "[encoded data removed]",
      "text/plain": [
       "<Figure size 432x288 with 3 Axes>"
      ]
     },
     "metadata": {
      "needs_background": "light"
     },
     "output_type": "display_data"
    },
    {
     "name": "stdout",
     "output_type": "stream",
     "text": [
      "(32,)\n",
      "(1, 32)\n"
     ]
    },
    {
     "data": {
      "image/png": "[encoded data removed]",
      "text/plain": [
       "<Figure size 432x288 with 3 Axes>"
      ]
     },
     "metadata": {
      "needs_background": "light"
     },
     "output_type": "display_data"
    }
   ],
   "source": [
    "for i in range(5):\n",
    "    img = X_test[i]\n",
    "    visualize(img,encoder,decoder)"
   ]
  },
  {
   "cell_type": "code",
   "execution_count": null,
   "metadata": {},
   "outputs": [],
   "source": []
  }
 ],
 "metadata": {
  "kernelspec": {
   "display_name": "Python 3",
   "language": "python",
   "name": "python3"
  },
  "language_info": {
   "codemirror_mode": {
    "name": "ipython",
    "version": 3
   },
   "file_extension": ".py",
   "mimetype": "text/x-python",
   "name": "python",
   "nbconvert_exporter": "python",
   "pygments_lexer": "ipython3",
   "version": "3.6.8"
  }
 },
 "nbformat": 4,
 "nbformat_minor": 2
}
