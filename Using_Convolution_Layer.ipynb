{
 "cells": [
  {
   "cell_type": "code",
   "execution_count": 1,
   "metadata": {},
   "outputs": [],
   "source": [
    "import tensorflow as tf\n",
    "from tensorflow.keras.datasets import mnist"
   ]
  },
  {
   "cell_type": "code",
   "execution_count": 2,
   "metadata": {},
   "outputs": [],
   "source": [
    "import numpy as np"
   ]
  },
  {
   "cell_type": "code",
   "execution_count": 3,
   "metadata": {},
   "outputs": [],
   "source": [
    "(X_train,_),(X_test,_) = mnist.load_data()"
   ]
  },
  {
   "cell_type": "code",
   "execution_count": 4,
   "metadata": {},
   "outputs": [],
   "source": [
    "# Noramlizing between -0.5 and 0.5\n",
    "X_train = X_train.astype('float32')/255 - 0.5\n",
    "X_test = X_test.astype('float32')/255 - 0.5"
   ]
  },
  {
   "cell_type": "code",
   "execution_count": 5,
   "metadata": {},
   "outputs": [],
   "source": [
    "X_train = X_train\n",
    "X_test = X_test"
   ]
  },
  {
   "cell_type": "code",
   "execution_count": 6,
   "metadata": {},
   "outputs": [],
   "source": [
    "from tensorflow.keras.models import Model, Sequential\n",
    "from tensorflow.keras.layers import Dense, Input, Reshape, Flatten, Conv2D, Conv2DTranspose, MaxPool2D, UpSampling2D"
   ]
  },
  {
   "cell_type": "code",
   "execution_count": 7,
   "metadata": {},
   "outputs": [
    {
     "data": {
      "text/plain": [
       "(28, 28)"
      ]
     },
     "execution_count": 7,
     "metadata": {},
     "output_type": "execute_result"
    }
   ],
   "source": [
    "img_shape = X_train[0].shape\n",
    "img_shape"
   ]
  },
  {
   "cell_type": "code",
   "execution_count": 8,
   "metadata": {},
   "outputs": [],
   "source": [
    "X_train = np.reshape(X_train, (len(X_train), 28, 28, 1))\n",
    "X_test = np.reshape(X_test, (len(X_test), 28, 28, 1))"
   ]
  },
  {
   "cell_type": "code",
   "execution_count": 9,
   "metadata": {},
   "outputs": [
    {
     "data": {
      "text/plain": [
       "(60000, 28, 28, 1)"
      ]
     },
     "execution_count": 9,
     "metadata": {},
     "output_type": "execute_result"
    }
   ],
   "source": [
    "img_shape = X_train.shape\n",
    "img_shape"
   ]
  },
  {
   "cell_type": "code",
   "execution_count": 10,
   "metadata": {},
   "outputs": [],
   "source": [
    "input_image = Input(shape=(28,28,1))"
   ]
  },
  {
   "cell_type": "code",
   "execution_count": 11,
   "metadata": {},
   "outputs": [],
   "source": [
    "#Defining the Convolutional Encoder-Decoder"
   ]
  },
  {
   "cell_type": "code",
   "execution_count": 12,
   "metadata": {},
   "outputs": [],
   "source": [
    "autoencoder = Sequential()\n",
    "autoencoder.add(Conv2D(64, kernel_size=3, activation='relu', padding='same', input_shape=(28,28,1)))\n",
    "autoencoder.add(MaxPool2D((2,2), padding='same'))\n",
    "\n",
    "autoencoder.add(Conv2D(32, kernel_size=3, activation='relu', padding='same'))\n",
    "autoencoder.add(MaxPool2D((2,2), padding='same'))\n",
    "\n",
    "autoencoder.add(Conv2D(10, kernel_size=3, activation='relu', padding='same'))\n",
    "autoencoder.add(MaxPool2D((2,2), padding='same'))"
   ]
  },
  {
   "cell_type": "code",
   "execution_count": 13,
   "metadata": {},
   "outputs": [],
   "source": [
    "autoencoder.add(Conv2D(10,kernel_size=3,activation='relu',padding='same'))\n",
    "autoencoder.add(UpSampling2D((2,2)))\n",
    "\n",
    "autoencoder.add(Conv2D(32,kernel_size=3,activation='relu',padding='same'))\n",
    "autoencoder.add(UpSampling2D((2,2)))\n",
    "\n",
    "autoencoder.add(Conv2D(64,kernel_size=3,activation='relu',padding='same'))\n",
    "autoencoder.add(UpSampling2D((2,2)))\n",
    "\n",
    "autoencoder.add(Conv2D(1,kernel_size=3))\n",
    "autoencoder.add(Conv2D(1,kernel_size=3))\n",
    "# autoencoder.add(Conv2D(1,kernel_size=3))"
   ]
  },
  {
   "cell_type": "code",
   "execution_count": 14,
   "metadata": {},
   "outputs": [
    {
     "name": "stdout",
     "output_type": "stream",
     "text": [
      "(None, 28, 28, 1)\n",
      "(None, 28, 28, 64)\n",
      "(None, 14, 14, 64)\n",
      "(None, 14, 14, 32)\n",
      "(None, 7, 7, 32)\n",
      "(None, 7, 7, 10)\n",
      "(None, 4, 4, 10)\n",
      "(None, 4, 4, 10)\n",
      "(None, 8, 8, 10)\n",
      "(None, 8, 8, 32)\n",
      "(None, 16, 16, 32)\n",
      "(None, 16, 16, 64)\n",
      "(None, 32, 32, 64)\n",
      "(None, 30, 30, 1)\n"
     ]
    }
   ],
   "source": [
    "for layer in autoencoder.layers:\n",
    "    print(layer.input_shape)"
   ]
  },
  {
   "cell_type": "code",
   "execution_count": 15,
   "metadata": {},
   "outputs": [],
   "source": [
    "input_ = input_image"
   ]
  },
  {
   "cell_type": "code",
   "execution_count": 16,
   "metadata": {},
   "outputs": [],
   "source": [
    "# #Using Latent to get the output\n",
    "# bottleneck = encoder(input_)\n",
    "# reconstruction = decoder(bottleneck)"
   ]
  },
  {
   "cell_type": "code",
   "execution_count": 17,
   "metadata": {},
   "outputs": [],
   "source": [
    "#this is the input and output\n",
    "# autoencoder = Model(input_image,autoencoder)"
   ]
  },
  {
   "cell_type": "code",
   "execution_count": 19,
   "metadata": {},
   "outputs": [],
   "source": [
    "# print(input_.shape)\n",
    "# print(reconstruction.shape)"
   ]
  },
  {
   "cell_type": "code",
   "execution_count": 21,
   "metadata": {},
   "outputs": [],
   "source": [
    "autoencoder.compile(\n",
    "    optimizer='adam',\n",
    "    loss='sparse_categorical_crossentropy',\n",
    "    metrics=['accuracy']\n",
    ")"
   ]
  },
  {
   "cell_type": "code",
   "execution_count": 22,
   "metadata": {},
   "outputs": [],
   "source": [
    "# Lets keep model checkpoints and callbacks\n",
    "from tensorflow.keras.callbacks import ModelCheckpoint, TensorBoard"
   ]
  },
  {
   "cell_type": "code",
   "execution_count": 23,
   "metadata": {},
   "outputs": [],
   "source": [
    "checkpoints = ModelCheckpoint(\n",
    "    filepath='model.h5',\n",
    "    verbose=1,\n",
    "    save_best_only=True #Best Model is saved on longer training\n",
    ")"
   ]
  },
  {
   "cell_type": "code",
   "execution_count": 24,
   "metadata": {},
   "outputs": [],
   "source": [
    "tb = TensorBoard(\n",
    "    log_dir=\"./logs\",\n",
    "    write_graph=True\n",
    ")"
   ]
  },
  {
   "cell_type": "code",
   "execution_count": 25,
   "metadata": {},
   "outputs": [
    {
     "name": "stdout",
     "output_type": "stream",
     "text": [
      "Train on 60000 samples, validate on 10000 samples\n",
      "59904/60000 [============================>.] - ETA: 0s - loss: 0.0000e+00 - accuracy: 0.0000e+00\n",
      "Epoch 00001: val_loss improved from inf to 0.00000, saving model to model.h5\n",
      "60000/60000 [==============================] - 222s 4ms/sample - loss: 0.0000e+00 - accuracy: 0.0000e+00 - val_loss: 0.0000e+00 - val_accuracy: 0.0000e+00\n"
     ]
    }
   ],
   "source": [
    "#Since we are reconstructing the same image the X and the Y are the same\n",
    "history = autoencoder.fit(\n",
    "    X_train,\n",
    "    X_train,\n",
    "    epochs=1,\n",
    "    batch_size=256,\n",
    "    shuffle=True,\n",
    "    validation_data=(X_test,X_test),\n",
    "    verbose=1,\n",
    "    callbacks=[checkpoints, tb]\n",
    ")"
   ]
  },
  {
   "cell_type": "code",
   "execution_count": 26,
   "metadata": {},
   "outputs": [],
   "source": [
    "import matplotlib.pyplot as plt"
   ]
  },
  {
   "cell_type": "code",
   "execution_count": 222,
   "metadata": {},
   "outputs": [],
   "source": [
    "# def show(x):\n",
    "#     plt.imshow(np.clip(x+0.5,0,1))"
   ]
  },
  {
   "cell_type": "code",
   "execution_count": 27,
   "metadata": {},
   "outputs": [],
   "source": [
    "# show(X_train[0])"
   ]
  },
  {
   "cell_type": "code",
   "execution_count": 29,
   "metadata": {},
   "outputs": [],
   "source": [
    "# #expects batch size show like 1*28*28 but we have not give a batch size so, we add none\n",
    "# autoencoder.predict(X_test[None][0])"
   ]
  },
  {
   "cell_type": "code",
   "execution_count": 30,
   "metadata": {},
   "outputs": [],
   "source": [
    "# def visualize(img,encoder,decoder):\n",
    "#     bottleneck = encoder.predict(img[None])[0]\n",
    "#     print(bottleneck.shape)\n",
    "#     print(bottleneck[None].shape)\n",
    "#     reconstruction = decoder.predict(bottleneck[None])[0]\n",
    "    \n",
    "#     plt.subplot(1,3,1)\n",
    "#     show(img)\n",
    "    \n",
    "#     plt.subplot(1,3,2)\n",
    "#     plt.imshow(bottleneck.reshape((bottleneck.shape[-1],1)))\n",
    "    \n",
    "#     plt.subplot(1,3,3)\n",
    "#     plt.imshow(reconstruction)\n",
    "    \n",
    "#     plt.show()\n",
    "    "
   ]
  },
  {
   "cell_type": "code",
   "execution_count": 31,
   "metadata": {},
   "outputs": [],
   "source": [
    "# for i in range(5):\n",
    "#     img = X_test[i]\n",
    "#     visualize(img,encoder,decoder)"
   ]
  },
  {
   "cell_type": "code",
   "execution_count": null,
   "metadata": {},
   "outputs": [],
   "source": [
    "n = 7\n",
    "plt.figure(figsize=(20, 4))\n",
    "for i in range(n):\n",
    "    ax = plt.subplot(1, n, i+1)\n",
    "    plt.imshow(X_test[i].reshape(28, 28))\n",
    "    plt.gray()\n",
    "    ax.get_xaxis().set_visible(False)\n",
    "    ax.get_yaxis().set_visible(False)\n",
    "plt.show()"
   ]
  },
  {
   "cell_type": "code",
   "execution_count": null,
   "metadata": {},
   "outputs": [],
   "source": [
    "reconstructed_images = model.predict(X_test)"
   ]
  },
  {
   "cell_type": "code",
   "execution_count": null,
   "metadata": {},
   "outputs": [],
   "source": [
    "n = 7\n",
    "plt.figure(figsize=(20, 4))\n",
    "for i in range(n):\n",
    "    ax = plt.subplot(2, n, i + n + 1)\n",
    "    plt.imshow(reconstructed_images[i].reshape(28, 28))\n",
    "    plt.gray()\n",
    "    ax.get_xaxis().set_visible(False)\n",
    "    ax.get_yaxis().set_visible(False)\n",
    "plt.show()"
   ]
  },
  {
   "cell_type": "code",
   "execution_count": null,
   "metadata": {},
   "outputs": [],
   "source": []
  }
 ],
 "metadata": {
  "kernelspec": {
   "display_name": "Python 3",
   "language": "python",
   "name": "python3"
  },
  "language_info": {
   "codemirror_mode": {
    "name": "ipython",
    "version": 3
   },
   "file_extension": ".py",
   "mimetype": "text/x-python",
   "name": "python",
   "nbconvert_exporter": "python",
   "pygments_lexer": "ipython3",
   "version": "3.6.8"
  }
 },
 "nbformat": 4,
 "nbformat_minor": 2
}
