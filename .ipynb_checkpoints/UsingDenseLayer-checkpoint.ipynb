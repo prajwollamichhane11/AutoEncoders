{
 "cells": [
  {
   "cell_type": "code",
   "execution_count": 1,
   "metadata": {},
   "outputs": [],
   "source": [
    "import tensorflow as tf\n",
    "from tensorflow.keras.datasets import mnist"
   ]
  },
  {
   "cell_type": "code",
   "execution_count": 2,
   "metadata": {},
   "outputs": [],
   "source": [
    "import numpy as np"
   ]
  },
  {
   "cell_type": "code",
   "execution_count": 3,
   "metadata": {},
   "outputs": [],
   "source": [
    "(X_train,_),(X_test,_) = mnist.load_data()"
   ]
  },
  {
   "cell_type": "code",
   "execution_count": 4,
   "metadata": {},
   "outputs": [],
   "source": [
    "# Noramlizing between -0.5 and 0.5\n",
    "X_train = X_train.astype('float32')/255 - 0.5\n",
    "X_test = X_test.astype('float32')/255 - 0.5"
   ]
  },
  {
   "cell_type": "code",
   "execution_count": 5,
   "metadata": {},
   "outputs": [],
   "source": [
    "X_train = X_train\n",
    "X_test = X_test"
   ]
  },
  {
   "cell_type": "code",
   "execution_count": 6,
   "metadata": {},
   "outputs": [],
   "source": [
    "from tensorflow.keras.models import Model, Sequential\n",
    "from tensorflow.keras.layers import Dense, Input, Reshape, Flatten"
   ]
  },
  {
   "cell_type": "code",
   "execution_count": 7,
   "metadata": {},
   "outputs": [],
   "source": [
    "img_shape = X_train[0].shape"
   ]
  },
  {
   "cell_type": "code",
   "execution_count": 8,
   "metadata": {},
   "outputs": [],
   "source": [
    "encoding_dim = 32"
   ]
  },
  {
   "cell_type": "code",
   "execution_count": 10,
   "metadata": {},
   "outputs": [],
   "source": [
    "encoder = Sequential()\n",
    "encoder.add(Input(img_shape))\n",
    "encoder.add(Flatten())\n",
    "encoder.add(Dense(encoding_dim))"
   ]
  },
  {
   "cell_type": "code",
   "execution_count": 11,
   "metadata": {},
   "outputs": [],
   "source": [
    "decoder = Sequential()\n",
    "decoder.add(Input(encoding_dim))\n",
    "decoder.add(Dense(np.prod(img_shape)))\n",
    "decoder.add(Reshape(img_shape))"
   ]
  },
  {
   "cell_type": "code",
   "execution_count": 15,
   "metadata": {},
   "outputs": [],
   "source": [
    "input_ = Input(img_shape)"
   ]
  },
  {
   "cell_type": "code",
   "execution_count": 16,
   "metadata": {},
   "outputs": [],
   "source": [
    "#Using Latent to get the output\n",
    "bottleneck = encoder(input_)\n",
    "reconstruction = decoder(bottleneck)"
   ]
  },
  {
   "cell_type": "markdown",
   "metadata": {},
   "source": [
    "### If Using the AutoEncoder as a single model\n",
    "But here, we can't use the latent variable for other operations\n",
    "That's why we use encoder and decoder separately."
   ]
  },
  {
   "cell_type": "code",
   "execution_count": 18,
   "metadata": {},
   "outputs": [],
   "source": [
    "# While using the encoder and decoder at once\n",
    "#Using a Single Dense Layer\n",
    "autoencoder = Sequential()\n",
    "autoencoder.add(Input(img_shape))\n",
    "autoencoder.add(Flatten())\n",
    "autoencoder.add(Dense(encoding_dim))\n",
    "autoencoder.add(Dense(np.prod(img_shape)))\n",
    "autoencoder.add(Reshape(img_shape))"
   ]
  },
  {
   "cell_type": "code",
   "execution_count": 25,
   "metadata": {},
   "outputs": [],
   "source": [
    "#this is the input and output\n",
    "autoencoder = Model(input_,reconstruction)"
   ]
  },
  {
   "cell_type": "code",
   "execution_count": 26,
   "metadata": {},
   "outputs": [],
   "source": [
    "autoencoder.compile(\n",
    "    optimizer='adam',\n",
    "    loss='mean_squared_error',\n",
    "    metrics=['accuracy']\n",
    ")"
   ]
  },
  {
   "cell_type": "code",
   "execution_count": 27,
   "metadata": {},
   "outputs": [],
   "source": [
    "# Lets keep model checkpoints and callbacks\n",
    "from tensorflow.keras.callbacks import ModelCheckpoint, TensorBoard"
   ]
  },
  {
   "cell_type": "code",
   "execution_count": 28,
   "metadata": {},
   "outputs": [],
   "source": [
    "checkpoints = ModelCheckpoint(\n",
    "    filepath='model.h5',\n",
    "    verbose=1,\n",
    "    save_best_only=True #Best Model is saved on longer training\n",
    ")"
   ]
  },
  {
   "cell_type": "code",
   "execution_count": 29,
   "metadata": {},
   "outputs": [],
   "source": [
    "tb = TensorBoard(\n",
    "    log_dir=\"./logs\",\n",
    "    write_graph=True\n",
    ")"
   ]
  },
  {
   "cell_type": "code",
   "execution_count": 30,
   "metadata": {},
   "outputs": [
    {
     "name": "stdout",
     "output_type": "stream",
     "text": [
      "Train on 60000 samples, validate on 10000 samples\n",
      "Epoch 1/10\n",
      "59904/60000 [============================>.] - ETA: 0s - loss: 0.0572 - accuracy: 0.1466\n",
      "Epoch 00001: val_loss improved from inf to 0.03121, saving model to model.h5\n",
      "60000/60000 [==============================] - 2s 32us/sample - loss: 0.0571 - accuracy: 0.1467 - val_loss: 0.0312 - val_accuracy: 0.2055\n",
      "Epoch 2/10\n",
      "57344/60000 [===========================>..] - ETA: 0s - loss: 0.0266 - accuracy: 0.2258\n",
      "Epoch 00002: val_loss improved from 0.03121 to 0.02235, saving model to model.h5\n",
      "60000/60000 [==============================] - 1s 21us/sample - loss: 0.0264 - accuracy: 0.2267 - val_loss: 0.0223 - val_accuracy: 0.2391\n",
      "Epoch 3/10\n",
      "59392/60000 [============================>.] - ETA: 0s - loss: 0.0211 - accuracy: 0.2487\n",
      "Epoch 00003: val_loss improved from 0.02235 to 0.01942, saving model to model.h5\n",
      "60000/60000 [==============================] - 1s 19us/sample - loss: 0.0211 - accuracy: 0.2487 - val_loss: 0.0194 - val_accuracy: 0.2497\n",
      "Epoch 4/10\n",
      "58112/60000 [============================>.] - ETA: 0s - loss: 0.0192 - accuracy: 0.2557\n",
      "Epoch 00004: val_loss improved from 0.01942 to 0.01818, saving model to model.h5\n",
      "60000/60000 [==============================] - 1s 19us/sample - loss: 0.0192 - accuracy: 0.2558 - val_loss: 0.0182 - val_accuracy: 0.2528\n",
      "Epoch 5/10\n",
      "57088/60000 [===========================>..] - ETA: 0s - loss: 0.0183 - accuracy: 0.2578\n",
      "Epoch 00005: val_loss improved from 0.01818 to 0.01764, saving model to model.h5\n",
      "60000/60000 [==============================] - 1s 19us/sample - loss: 0.0183 - accuracy: 0.2580 - val_loss: 0.0176 - val_accuracy: 0.2540\n",
      "Epoch 6/10\n",
      "59136/60000 [============================>.] - ETA: 0s - loss: 0.0180 - accuracy: 0.2595\n",
      "Epoch 00006: val_loss improved from 0.01764 to 0.01747, saving model to model.h5\n",
      "60000/60000 [==============================] - 1s 20us/sample - loss: 0.0180 - accuracy: 0.2595 - val_loss: 0.0175 - val_accuracy: 0.2565\n",
      "Epoch 7/10\n",
      "58624/60000 [============================>.] - ETA: 0s - loss: 0.0179 - accuracy: 0.2603\n",
      "Epoch 00007: val_loss improved from 0.01747 to 0.01743, saving model to model.h5\n",
      "60000/60000 [==============================] - 1s 22us/sample - loss: 0.0179 - accuracy: 0.2603 - val_loss: 0.0174 - val_accuracy: 0.2576\n",
      "Epoch 8/10\n",
      "59392/60000 [============================>.] - ETA: 0s - loss: 0.0178 - accuracy: 0.2609\n",
      "Epoch 00008: val_loss improved from 0.01743 to 0.01739, saving model to model.h5\n",
      "60000/60000 [==============================] - 1s 24us/sample - loss: 0.0178 - accuracy: 0.2609 - val_loss: 0.0174 - val_accuracy: 0.2571\n",
      "Epoch 9/10\n",
      "58368/60000 [============================>.] - ETA: 0s - loss: 0.0178 - accuracy: 0.2610\n",
      "Epoch 00009: val_loss improved from 0.01739 to 0.01738, saving model to model.h5\n",
      "60000/60000 [==============================] - 1s 21us/sample - loss: 0.0178 - accuracy: 0.2610 - val_loss: 0.0174 - val_accuracy: 0.2576\n",
      "Epoch 10/10\n",
      "59392/60000 [============================>.] - ETA: 0s - loss: 0.0178 - accuracy: 0.2613\n",
      "Epoch 00010: val_loss improved from 0.01738 to 0.01736, saving model to model.h5\n",
      "60000/60000 [==============================] - 1s 20us/sample - loss: 0.0178 - accuracy: 0.2613 - val_loss: 0.0174 - val_accuracy: 0.2594\n"
     ]
    }
   ],
   "source": [
    "#Since we are reconstructing the same image the X and the Y are the same\n",
    "history = autoencoder.fit(\n",
    "    X_train,\n",
    "    X_train,\n",
    "    epochs=10,\n",
    "    batch_size=256,\n",
    "    shuffle=True,\n",
    "    validation_data=(X_test,X_test),\n",
    "    verbose=1,\n",
    "    callbacks=[checkpoints, tb]\n",
    ")"
   ]
  },
  {
   "cell_type": "code",
   "execution_count": 31,
   "metadata": {},
   "outputs": [],
   "source": [
    "import matplotlib.pyplot as plt"
   ]
  },
  {
   "cell_type": "code",
   "execution_count": 42,
   "metadata": {},
   "outputs": [],
   "source": [
    "def show(x):\n",
    "    plt.imshow(np.clip(x+0.5,0,1))"
   ]
  },
  {
   "cell_type": "code",
   "execution_count": 43,
   "metadata": {},
   "outputs": [
    {
     "data": {
      "image/png": "[encoded data removed]",
      "text/plain": [
       "<Figure size 432x288 with 1 Axes>"
      ]
     },
     "metadata": {
      "needs_background": "light"
     },
     "output_type": "display_data"
    }
   ],
   "source": [
    "show(X_train[0])"
   ]
  },
  {
   "cell_type": "code",
   "execution_count": 44,
   "metadata": {},
   "outputs": [
    {
     "data": {
      "text/plain": [
       "array([[[-0.4955307 , -0.49573338, -0.49559137, ..., -0.49551678,\n",
       "         -0.49552324, -0.49559146],\n",
       "        [-0.495674  , -0.49552152, -0.49548638, ..., -0.4956233 ,\n",
       "         -0.4956138 , -0.4955596 ],\n",
       "        [-0.4955787 , -0.49543464, -0.49543923, ..., -0.4952229 ,\n",
       "         -0.4955236 , -0.4956909 ],\n",
       "        ...,\n",
       "        [-0.4956419 , -0.4956455 , -0.49519256, ..., -0.49605593,\n",
       "         -0.49536273, -0.4954957 ],\n",
       "        [-0.49539736, -0.49477303, -0.49552333, ..., -0.49574965,\n",
       "         -0.49562398, -0.49568987],\n",
       "        [-0.49550164, -0.49569425, -0.49561965, ..., -0.4954218 ,\n",
       "         -0.49557543, -0.49567175]],\n",
       "\n",
       "       [[-0.46774882, -0.46822926, -0.4679655 , ..., -0.46704042,\n",
       "         -0.46758562, -0.4677887 ],\n",
       "        [-0.46748903, -0.46799532, -0.46702668, ..., -0.46804023,\n",
       "         -0.46772924, -0.46796727],\n",
       "        [-0.46726006, -0.46723577, -0.46734008, ..., -0.4669    ,\n",
       "         -0.4670892 , -0.46753588],\n",
       "        ...,\n",
       "        [-0.46830955, -0.46724224, -0.4667852 , ..., -0.46720383,\n",
       "         -0.4671745 , -0.46752083],\n",
       "        [-0.46686906, -0.46977735, -0.46706566, ..., -0.4671405 ,\n",
       "         -0.4673398 , -0.46778262],\n",
       "        [-0.4670881 , -0.46798632, -0.46745092, ..., -0.4672365 ,\n",
       "         -0.4674594 , -0.46742594]],\n",
       "\n",
       "       [[-0.49250787, -0.4931278 , -0.49265307, ..., -0.491413  ,\n",
       "         -0.49151644, -0.4924583 ],\n",
       "        [-0.4917118 , -0.4925548 , -0.49148902, ..., -0.49267262,\n",
       "         -0.49175742, -0.49248376],\n",
       "        [-0.49156657, -0.49163616, -0.49158543, ..., -0.49148664,\n",
       "         -0.49137884, -0.49228245],\n",
       "        ...,\n",
       "        [-0.49296936, -0.4919212 , -0.4912809 , ..., -0.49140167,\n",
       "         -0.49142125, -0.4924232 ],\n",
       "        [-0.49132943, -0.49292013, -0.49158272, ..., -0.49198574,\n",
       "         -0.49166664, -0.49229035],\n",
       "        [-0.4915576 , -0.4928944 , -0.4914134 , ..., -0.49166656,\n",
       "         -0.492213  , -0.49203986]],\n",
       "\n",
       "       ...,\n",
       "\n",
       "       [[-0.4931775 , -0.49350014, -0.4932512 , ..., -0.49301815,\n",
       "         -0.49317643, -0.49322525],\n",
       "        [-0.49321592, -0.49317905, -0.4930126 , ..., -0.4932662 ,\n",
       "         -0.49336737, -0.49313578],\n",
       "        [-0.4931155 , -0.4930841 , -0.49297816, ..., -0.4929475 ,\n",
       "         -0.49301773, -0.49326104],\n",
       "        ...,\n",
       "        [-0.4934063 , -0.4932424 , -0.49277648, ..., -0.4936421 ,\n",
       "         -0.492972  , -0.4930845 ],\n",
       "        [-0.49298972, -0.49357492, -0.4930574 , ..., -0.49327898,\n",
       "         -0.49312958, -0.49323866],\n",
       "        [-0.4930356 , -0.49333036, -0.49322087, ..., -0.49302927,\n",
       "         -0.49320906, -0.49322695]],\n",
       "\n",
       "       [[-0.49822056, -0.49862877, -0.49839506, ..., -0.49767435,\n",
       "         -0.49768835, -0.49825934],\n",
       "        [-0.4977705 , -0.49821514, -0.49772632, ..., -0.49831748,\n",
       "         -0.49802274, -0.4981265 ],\n",
       "        [-0.4977761 , -0.49793696, -0.4977664 , ..., -0.49772644,\n",
       "         -0.4975943 , -0.49822468],\n",
       "        ...,\n",
       "        [-0.49852976, -0.49801219, -0.49750796, ..., -0.497276  ,\n",
       "         -0.49767956, -0.4981369 ],\n",
       "        [-0.49764848, -0.49871805, -0.4977837 , ..., -0.49810308,\n",
       "         -0.4978719 , -0.49814248],\n",
       "        [-0.4977733 , -0.4984774 , -0.4976561 , ..., -0.49776924,\n",
       "         -0.49819937, -0.49809122]],\n",
       "\n",
       "       [[-0.48180225, -0.4822818 , -0.48195663, ..., -0.4812358 ,\n",
       "         -0.4815665 , -0.4818123 ],\n",
       "        [-0.4815926 , -0.48190612, -0.48133522, ..., -0.48199993,\n",
       "         -0.48182064, -0.4818337 ],\n",
       "        [-0.4814497 , -0.48154652, -0.4815119 , ..., -0.48133698,\n",
       "         -0.48119217, -0.48176295],\n",
       "        ...,\n",
       "        [-0.48222232, -0.48161277, -0.48126528, ..., -0.48133165,\n",
       "         -0.48141798, -0.48162672],\n",
       "        [-0.48117745, -0.48283386, -0.481372  , ..., -0.48149765,\n",
       "         -0.4815504 , -0.48185974],\n",
       "        [-0.48140204, -0.48204365, -0.4813851 , ..., -0.48155534,\n",
       "         -0.48172927, -0.48167098]]], dtype=float32)"
      ]
     },
     "execution_count": 44,
     "metadata": {},
     "output_type": "execute_result"
    }
   ],
   "source": [
    "#expects batch size show like 1*28*28 but we have not give a batch size so, we add none\n",
    "autoencoder.predict(X_test[None][0])"
   ]
  },
  {
   "cell_type": "code",
   "execution_count": 45,
   "metadata": {},
   "outputs": [],
   "source": [
    "def visualize(img,encoder,decoder):\n",
    "    bottleneck = encoder.predict(img[None])[0]\n",
    "    print(bottleneck.shape)\n",
    "    reconstruction = decoder.predict(bottleneck[None])[0]\n",
    "    \n",
    "    plt.subplot(1,3,1)\n",
    "    show(img)\n",
    "    \n",
    "    plt.subplot(1,3,2)\n",
    "    plt.imshow(bottleneck.reshape((bottleneck.shape[-1],1)))\n",
    "    \n",
    "    plt.subplot(1,3,3)\n",
    "    plt.imshow(reconstruction)\n",
    "    \n",
    "    plt.show()\n",
    "    "
   ]
  },
  {
   "cell_type": "code",
   "execution_count": 47,
   "metadata": {},
   "outputs": [
    {
     "name": "stdout",
     "output_type": "stream",
     "text": [
      "(32,)\n"
     ]
    },
    {
     "data": {
      "image/png": "[encoded data removed]",
      "text/plain": [
       "<Figure size 432x288 with 3 Axes>"
      ]
     },
     "metadata": {
      "needs_background": "light"
     },
     "output_type": "display_data"
    },
    {
     "name": "stdout",
     "output_type": "stream",
     "text": [
      "(32,)\n"
     ]
    },
    {
     "data": {
      "image/png": "[encoded data removed]",
      "text/plain": [
       "<Figure size 432x288 with 3 Axes>"
      ]
     },
     "metadata": {
      "needs_background": "light"
     },
     "output_type": "display_data"
    },
    {
     "name": "stdout",
     "output_type": "stream",
     "text": [
      "(32,)\n"
     ]
    },
    {
     "data": {
      "image/png": "[encoded data removed]",
      "text/plain": [
       "<Figure size 432x288 with 3 Axes>"
      ]
     },
     "metadata": {
      "needs_background": "light"
     },
     "output_type": "display_data"
    },
    {
     "name": "stdout",
     "output_type": "stream",
     "text": [
      "(32,)\n"
     ]
    },
    {
     "data": {
      "image/png": "[encoded data removed]",
      "text/plain": [
       "<Figure size 432x288 with 3 Axes>"
      ]
     },
     "metadata": {
      "needs_background": "light"
     },
     "output_type": "display_data"
    },
    {
     "name": "stdout",
     "output_type": "stream",
     "text": [
      "(32,)\n"
     ]
    },
    {
     "data": {
      "image/png": "[encoded data removed]",
      "text/plain": [
       "<Figure size 432x288 with 3 Axes>"
      ]
     },
     "metadata": {
      "needs_background": "light"
     },
     "output_type": "display_data"
    }
   ],
   "source": [
    "for i in range(5):\n",
    "    img = X_test[i]\n",
    "    visualize(img,encoder,decoder)"
   ]
  },
  {
   "cell_type": "code",
   "execution_count": null,
   "metadata": {},
   "outputs": [],
   "source": []
  }
 ],
 "metadata": {
  "kernelspec": {
   "display_name": "Python 3",
   "language": "python",
   "name": "python3"
  },
  "language_info": {
   "codemirror_mode": {
    "name": "ipython",
    "version": 3
   },
   "file_extension": ".py",
   "mimetype": "text/x-python",
   "name": "python",
   "nbconvert_exporter": "python",
   "pygments_lexer": "ipython3",
   "version": "3.6.8"
  }
 },
 "nbformat": 4,
 "nbformat_minor": 2
}
