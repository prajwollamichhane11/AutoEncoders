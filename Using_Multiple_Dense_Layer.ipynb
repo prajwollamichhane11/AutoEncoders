{
 "cells": [
  {
   "cell_type": "code",
   "execution_count": 1,
   "metadata": {},
   "outputs": [],
   "source": [
    "import tensorflow as tf\n",
    "from tensorflow.keras.datasets import mnist"
   ]
  },
  {
   "cell_type": "code",
   "execution_count": 2,
   "metadata": {},
   "outputs": [],
   "source": [
    "import numpy as np"
   ]
  },
  {
   "cell_type": "code",
   "execution_count": 3,
   "metadata": {},
   "outputs": [],
   "source": [
    "(X_train,_),(X_test,_) = mnist.load_data()"
   ]
  },
  {
   "cell_type": "code",
   "execution_count": 4,
   "metadata": {},
   "outputs": [],
   "source": [
    "# Noramlizing between -0.5 and 0.5\n",
    "X_train = X_train.astype('float32')/255 - 0.5\n",
    "X_test = X_test.astype('float32')/255 - 0.5"
   ]
  },
  {
   "cell_type": "code",
   "execution_count": 5,
   "metadata": {},
   "outputs": [],
   "source": [
    "X_train = X_train\n",
    "X_test = X_test"
   ]
  },
  {
   "cell_type": "code",
   "execution_count": 6,
   "metadata": {},
   "outputs": [],
   "source": [
    "from tensorflow.keras.models import Model, Sequential\n",
    "from tensorflow.keras.layers import Dense, Input, Reshape, Flatten"
   ]
  },
  {
   "cell_type": "code",
   "execution_count": 7,
   "metadata": {},
   "outputs": [],
   "source": [
    "img_shape = X_train[0].shape"
   ]
  },
  {
   "cell_type": "code",
   "execution_count": 8,
   "metadata": {},
   "outputs": [],
   "source": [
    "encoding_dim = 32"
   ]
  },
  {
   "cell_type": "code",
   "execution_count": 23,
   "metadata": {},
   "outputs": [],
   "source": [
    "encoder = Sequential()\n",
    "encoder.add(Input(img_shape))\n",
    "encoder.add(Flatten())\n",
    "encoder.add(Dense(128))\n",
    "encoder.add(Dense(64))\n",
    "encoder.add(Dense(encoding_dim))"
   ]
  },
  {
   "cell_type": "code",
   "execution_count": 52,
   "metadata": {},
   "outputs": [],
   "source": [
    "decoder = Sequential()\n",
    "decoder.add(Input(encoding_dim))\n",
    "decoder.add(Dense(64))\n",
    "decoder.add(Dense(128))\n",
    "decoder.add(Dense(np.prod(img_shape)))\n",
    "decoder.add(Reshape(img_shape))"
   ]
  },
  {
   "cell_type": "code",
   "execution_count": 53,
   "metadata": {},
   "outputs": [],
   "source": [
    "# autoencoder = Sequential()\n",
    "# autoencoder.add(Input(img_shape))\n",
    "# autoencoder.add(Flatten())\n",
    "# autoencoder.add(Dense(128))\n",
    "# autoencoder.add(Dense(64))\n",
    "# autoencoder.add(Dense(encoding_dim))\n",
    "# autoencoder.add(Dense(64))\n",
    "# autoencoder.add(Dense(128))\n",
    "# autoencoder.add(Dense(np.prod(img_shape)))\n",
    "# autoencoder.add(Reshape(img_shape))"
   ]
  },
  {
   "cell_type": "code",
   "execution_count": 54,
   "metadata": {},
   "outputs": [],
   "source": [
    "input_ = Input(img_shape)"
   ]
  },
  {
   "cell_type": "code",
   "execution_count": 55,
   "metadata": {},
   "outputs": [],
   "source": [
    "# Using Latent to get the output\n",
    "bottleneck = encoder(input_)\n",
    "reconstruction = decoder(bottleneck)"
   ]
  },
  {
   "cell_type": "code",
   "execution_count": 56,
   "metadata": {},
   "outputs": [],
   "source": [
    "#this is the input and output\n",
    "autoencoder = Model(input_,reconstruction)"
   ]
  },
  {
   "cell_type": "code",
   "execution_count": 90,
   "metadata": {},
   "outputs": [],
   "source": [
    "autoencoder.compile(\n",
    "    optimizer='adam',\n",
    "    loss='categorical_crossentropy',\n",
    "    metrics=['accuracy']\n",
    ")"
   ]
  },
  {
   "cell_type": "code",
   "execution_count": 91,
   "metadata": {},
   "outputs": [],
   "source": [
    "# Lets keep model checkpoints and callbacks\n",
    "from tensorflow.keras.callbacks import ModelCheckpoint, TensorBoard"
   ]
  },
  {
   "cell_type": "code",
   "execution_count": 92,
   "metadata": {},
   "outputs": [
    {
     "data": {
      "text/plain": [
       "<tensorflow.python.keras.callbacks.ModelCheckpoint at 0x7f1e70027128>"
      ]
     },
     "execution_count": 92,
     "metadata": {},
     "output_type": "execute_result"
    }
   ],
   "source": [
    "checkpoints = ModelCheckpoint(\n",
    "    filepath='model.h5',\n",
    "    verbose=1,\n",
    "    save_best_only=True #Best Model is saved on longer training\n",
    ")\n",
    "checkpoints"
   ]
  },
  {
   "cell_type": "code",
   "execution_count": 93,
   "metadata": {},
   "outputs": [
    {
     "data": {
      "text/plain": [
       "<tensorflow.python.keras.callbacks.TensorBoard at 0x7f1ea08a1198>"
      ]
     },
     "execution_count": 93,
     "metadata": {},
     "output_type": "execute_result"
    }
   ],
   "source": [
    "tb = TensorBoard(\n",
    "    log_dir=\"./logs\",\n",
    "    write_graph=True\n",
    ")\n",
    "tb"
   ]
  },
  {
   "cell_type": "code",
   "execution_count": 95,
   "metadata": {},
   "outputs": [
    {
     "name": "stdout",
     "output_type": "stream",
     "text": [
      "Train on 60000 samples, validate on 10000 samples\n",
      "Epoch 1/50\n",
      "58624/60000 [============================>.] - ETA: 0s - loss: -158.7267 - accuracy: 0.0420\n",
      "Epoch 00001: val_loss improved from -157.51131 to -158.63781, saving model to model.h5\n",
      "60000/60000 [==============================] - 3s 43us/sample - loss: -158.7303 - accuracy: 0.0418 - val_loss: -158.6378 - val_accuracy: 0.0368\n",
      "Epoch 2/50\n",
      "59136/60000 [============================>.] - ETA: 0s - loss: -159.4033 - accuracy: 0.0416\n",
      "Epoch 00002: val_loss improved from -158.63781 to -159.10918, saving model to model.h5\n",
      "60000/60000 [==============================] - 3s 42us/sample - loss: -159.4264 - accuracy: 0.0416 - val_loss: -159.1092 - val_accuracy: 0.0418\n",
      "Epoch 3/50\n",
      "59648/60000 [============================>.] - ETA: 0s - loss: -160.2138 - accuracy: 0.0417\n",
      "Epoch 00003: val_loss improved from -159.10918 to -159.89142, saving model to model.h5\n",
      "60000/60000 [==============================] - 3s 44us/sample - loss: -160.2198 - accuracy: 0.0417 - val_loss: -159.8914 - val_accuracy: 0.0419\n",
      "Epoch 4/50\n",
      "59392/60000 [============================>.] - ETA: 0s - loss: -160.5731 - accuracy: 0.0388\n",
      "Epoch 00004: val_loss improved from -159.89142 to -160.07531, saving model to model.h5\n",
      "60000/60000 [==============================] - 3s 48us/sample - loss: -160.5772 - accuracy: 0.0388 - val_loss: -160.0753 - val_accuracy: 0.0410\n",
      "Epoch 5/50\n",
      "58880/60000 [============================>.] - ETA: 0s - loss: -160.6578 - accuracy: 0.0427\n",
      "Epoch 00005: val_loss improved from -160.07531 to -160.17668, saving model to model.h5\n",
      "60000/60000 [==============================] - 3s 45us/sample - loss: -160.6544 - accuracy: 0.0427 - val_loss: -160.1767 - val_accuracy: 0.0464\n",
      "Epoch 6/50\n",
      "58880/60000 [============================>.] - ETA: 0s - loss: -160.7877 - accuracy: 0.0447\n",
      "Epoch 00006: val_loss improved from -160.17668 to -160.47430, saving model to model.h5\n",
      "60000/60000 [==============================] - 2s 41us/sample - loss: -160.7890 - accuracy: 0.0447 - val_loss: -160.4743 - val_accuracy: 0.0461\n",
      "Epoch 7/50\n",
      "59136/60000 [============================>.] - ETA: 0s - loss: -161.1273 - accuracy: 0.0434\n",
      "Epoch 00007: val_loss improved from -160.47430 to -160.66111, saving model to model.h5\n",
      "60000/60000 [==============================] - 2s 41us/sample - loss: -161.1568 - accuracy: 0.0434 - val_loss: -160.6611 - val_accuracy: 0.0407\n",
      "Epoch 8/50\n",
      "58624/60000 [============================>.] - ETA: 0s - loss: -161.3022 - accuracy: 0.0410\n",
      "Epoch 00008: val_loss improved from -160.66111 to -160.98746, saving model to model.h5\n",
      "60000/60000 [==============================] - 2s 41us/sample - loss: -161.3116 - accuracy: 0.0410 - val_loss: -160.9875 - val_accuracy: 0.0411\n",
      "Epoch 9/50\n",
      "58880/60000 [============================>.] - ETA: 0s - loss: -161.7458 - accuracy: 0.0400\n",
      "Epoch 00009: val_loss improved from -160.98746 to -161.21415, saving model to model.h5\n",
      "60000/60000 [==============================] - 2s 42us/sample - loss: -161.7387 - accuracy: 0.0399 - val_loss: -161.2142 - val_accuracy: 0.0411\n",
      "Epoch 10/50\n",
      "59904/60000 [============================>.] - ETA: 0s - loss: -161.9143 - accuracy: 0.0416\n",
      "Epoch 00010: val_loss improved from -161.21415 to -161.56790, saving model to model.h5\n",
      "60000/60000 [==============================] - 2s 41us/sample - loss: -161.9143 - accuracy: 0.0416 - val_loss: -161.5679 - val_accuracy: 0.0437\n",
      "Epoch 11/50\n",
      "59392/60000 [============================>.] - ETA: 0s - loss: -162.1597 - accuracy: 0.0420\n",
      "Epoch 00011: val_loss improved from -161.56790 to -161.61483, saving model to model.h5\n",
      "60000/60000 [==============================] - 3s 43us/sample - loss: -162.1613 - accuracy: 0.0419 - val_loss: -161.6148 - val_accuracy: 0.0432\n",
      "Epoch 12/50\n",
      "58624/60000 [============================>.] - ETA: 0s - loss: -162.2302 - accuracy: 0.0404\n",
      "Epoch 00012: val_loss improved from -161.61483 to -161.70408, saving model to model.h5\n",
      "60000/60000 [==============================] - 2s 41us/sample - loss: -162.2403 - accuracy: 0.0404 - val_loss: -161.7041 - val_accuracy: 0.0413\n",
      "Epoch 13/50\n",
      "59648/60000 [============================>.] - ETA: 0s - loss: -162.3215 - accuracy: 0.0434\n",
      "Epoch 00013: val_loss improved from -161.70408 to -161.77051, saving model to model.h5\n",
      "60000/60000 [==============================] - 2s 41us/sample - loss: -162.3174 - accuracy: 0.0434 - val_loss: -161.7705 - val_accuracy: 0.0445\n",
      "Epoch 14/50\n",
      "59392/60000 [============================>.] - ETA: 0s - loss: -162.3598 - accuracy: 0.0451\n",
      "Epoch 00014: val_loss improved from -161.77051 to -161.82937, saving model to model.h5\n",
      "60000/60000 [==============================] - 2s 42us/sample - loss: -162.3519 - accuracy: 0.0451 - val_loss: -161.8294 - val_accuracy: 0.0477\n",
      "Epoch 15/50\n",
      "59648/60000 [============================>.] - ETA: 0s - loss: -162.4058 - accuracy: 0.0421\n",
      "Epoch 00015: val_loss improved from -161.82937 to -161.86497, saving model to model.h5\n",
      "60000/60000 [==============================] - 2s 41us/sample - loss: -162.4110 - accuracy: 0.0421 - val_loss: -161.8650 - val_accuracy: 0.0444\n",
      "Epoch 16/50\n",
      "59904/60000 [============================>.] - ETA: 0s - loss: -162.4838 - accuracy: 0.0411\n",
      "Epoch 00016: val_loss improved from -161.86497 to -162.18436, saving model to model.h5\n",
      "60000/60000 [==============================] - 2s 41us/sample - loss: -162.4809 - accuracy: 0.0411 - val_loss: -162.1844 - val_accuracy: 0.0403\n",
      "Epoch 17/50\n",
      "59136/60000 [============================>.] - ETA: 0s - loss: -162.8175 - accuracy: 0.0396\n",
      "Epoch 00017: val_loss improved from -162.18436 to -162.31189, saving model to model.h5\n",
      "60000/60000 [==============================] - 3s 47us/sample - loss: -162.8179 - accuracy: 0.0396 - val_loss: -162.3119 - val_accuracy: 0.0410\n",
      "Epoch 18/50\n",
      "59648/60000 [============================>.] - ETA: 0s - loss: -163.1200 - accuracy: 0.0434\n",
      "Epoch 00018: val_loss improved from -162.31189 to -162.54530, saving model to model.h5\n",
      "60000/60000 [==============================] - 3s 49us/sample - loss: -163.1190 - accuracy: 0.0434 - val_loss: -162.5453 - val_accuracy: 0.0443\n",
      "Epoch 19/50\n",
      "59648/60000 [============================>.] - ETA: 0s - loss: -163.1590 - accuracy: 0.0404\n",
      "Epoch 00019: val_loss improved from -162.54530 to -162.58509, saving model to model.h5\n",
      "60000/60000 [==============================] - 3s 50us/sample - loss: -163.1624 - accuracy: 0.0405 - val_loss: -162.5851 - val_accuracy: 0.0387\n",
      "Epoch 20/50\n",
      "59648/60000 [============================>.] - ETA: 0s - loss: -163.1889 - accuracy: 0.0382\n",
      "Epoch 00020: val_loss improved from -162.58509 to -162.63414, saving model to model.h5\n",
      "60000/60000 [==============================] - 3s 56us/sample - loss: -163.1913 - accuracy: 0.0382 - val_loss: -162.6341 - val_accuracy: 0.0392\n",
      "Epoch 21/50\n",
      "59648/60000 [============================>.] - ETA: 0s - loss: -163.2248 - accuracy: 0.0394\n",
      "Epoch 00021: val_loss improved from -162.63414 to -162.63705, saving model to model.h5\n",
      "60000/60000 [==============================] - 4s 60us/sample - loss: -163.2378 - accuracy: 0.0394 - val_loss: -162.6370 - val_accuracy: 0.0407\n",
      "Epoch 22/50\n",
      "59648/60000 [============================>.] - ETA: 0s - loss: -163.2433 - accuracy: 0.0408\n",
      "Epoch 00022: val_loss improved from -162.63705 to -162.66448, saving model to model.h5\n",
      "60000/60000 [==============================] - 4s 65us/sample - loss: -163.2544 - accuracy: 0.0408 - val_loss: -162.6645 - val_accuracy: 0.0438\n",
      "Epoch 23/50\n",
      "59392/60000 [============================>.] - ETA: 0s - loss: -163.2714 - accuracy: 0.0423\n",
      "Epoch 00023: val_loss improved from -162.66448 to -162.68117, saving model to model.h5\n",
      "60000/60000 [==============================] - 5s 81us/sample - loss: -163.2856 - accuracy: 0.0424 - val_loss: -162.6812 - val_accuracy: 0.0438\n",
      "Epoch 24/50\n",
      "59392/60000 [============================>.] - ETA: 0s - loss: -163.3355 - accuracy: 0.0423\n",
      "Epoch 00024: val_loss improved from -162.68117 to -162.74556, saving model to model.h5\n",
      "60000/60000 [==============================] - 3s 57us/sample - loss: -163.3388 - accuracy: 0.0423 - val_loss: -162.7456 - val_accuracy: 0.0423\n",
      "Epoch 25/50\n",
      "59904/60000 [============================>.] - ETA: 0s - loss: -163.3957 - accuracy: 0.0409\n",
      "Epoch 00025: val_loss improved from -162.74556 to -162.81409, saving model to model.h5\n",
      "60000/60000 [==============================] - 4s 60us/sample - loss: -163.3977 - accuracy: 0.0409 - val_loss: -162.8141 - val_accuracy: 0.0401\n"
     ]
    },
    {
     "name": "stdout",
     "output_type": "stream",
     "text": [
      "Epoch 26/50\n",
      "59136/60000 [============================>.] - ETA: 0s - loss: -163.5778 - accuracy: 0.0394\n",
      "Epoch 00026: val_loss improved from -162.81409 to -163.02685, saving model to model.h5\n",
      "60000/60000 [==============================] - 3s 58us/sample - loss: -163.5797 - accuracy: 0.0394 - val_loss: -163.0269 - val_accuracy: 0.0399\n",
      "Epoch 27/50\n",
      "59904/60000 [============================>.] - ETA: 0s - loss: -163.6663 - accuracy: 0.0389\n",
      "Epoch 00027: val_loss improved from -163.02685 to -163.02698, saving model to model.h5\n",
      "60000/60000 [==============================] - 4s 61us/sample - loss: -163.6686 - accuracy: 0.0389 - val_loss: -163.0270 - val_accuracy: 0.0399\n",
      "Epoch 28/50\n",
      "59136/60000 [============================>.] - ETA: 0s - loss: -163.6580 - accuracy: 0.0389\n",
      "Epoch 00028: val_loss improved from -163.02698 to -163.02726, saving model to model.h5\n",
      "60000/60000 [==============================] - 4s 65us/sample - loss: -163.6689 - accuracy: 0.0389 - val_loss: -163.0273 - val_accuracy: 0.0399\n",
      "Epoch 29/50\n",
      "59392/60000 [============================>.] - ETA: 0s - loss: -163.6608 - accuracy: 0.0389\n",
      "Epoch 00029: val_loss improved from -163.02726 to -163.02923, saving model to model.h5\n",
      "60000/60000 [==============================] - 4s 74us/sample - loss: -163.6702 - accuracy: 0.0389 - val_loss: -163.0292 - val_accuracy: 0.0399\n",
      "Epoch 30/50\n",
      "59392/60000 [============================>.] - ETA: 0s - loss: -163.6779 - accuracy: 0.0396\n",
      "Epoch 00030: val_loss improved from -163.02923 to -163.03742, saving model to model.h5\n",
      "60000/60000 [==============================] - 4s 65us/sample - loss: -163.6726 - accuracy: 0.0397 - val_loss: -163.0374 - val_accuracy: 0.0471\n",
      "Epoch 31/50\n",
      "59136/60000 [============================>.] - ETA: 0s - loss: -163.6804 - accuracy: 0.0443\n",
      "Epoch 00031: val_loss improved from -163.03742 to -163.04608, saving model to model.h5\n",
      "60000/60000 [==============================] - 4s 62us/sample - loss: -163.6755 - accuracy: 0.0443 - val_loss: -163.0461 - val_accuracy: 0.0450\n",
      "Epoch 32/50\n",
      "59392/60000 [============================>.] - ETA: 0s - loss: -163.7092 - accuracy: 0.0437\n",
      "Epoch 00032: val_loss did not improve from -163.04608\n",
      "60000/60000 [==============================] - 5s 82us/sample - loss: -163.6983 - accuracy: 0.0437 - val_loss: -163.0461 - val_accuracy: 0.0417\n",
      "Epoch 33/50\n",
      "59392/60000 [============================>.] - ETA: 0s - loss: -163.6983 - accuracy: 0.0408\n",
      "Epoch 00033: val_loss did not improve from -163.04608\n",
      "60000/60000 [==============================] - 5s 84us/sample - loss: -163.7040 - accuracy: 0.0408 - val_loss: -163.0460 - val_accuracy: 0.0417\n",
      "Epoch 34/50\n",
      "59904/60000 [============================>.] - ETA: 0s - loss: -163.6990 - accuracy: 0.0408\n",
      "Epoch 00034: val_loss did not improve from -163.04608\n",
      "60000/60000 [==============================] - 5s 80us/sample - loss: -163.6974 - accuracy: 0.0408 - val_loss: -162.9702 - val_accuracy: 0.0417\n",
      "Epoch 35/50\n",
      "59904/60000 [============================>.] - ETA: 0s - loss: -163.6238 - accuracy: 0.0406\n",
      "Epoch 00035: val_loss did not improve from -163.04608\n",
      "60000/60000 [==============================] - 4s 75us/sample - loss: -163.6242 - accuracy: 0.0406 - val_loss: -162.9730 - val_accuracy: 0.0413\n",
      "Epoch 36/50\n",
      "59904/60000 [============================>.] - ETA: 0s - loss: -163.6305 - accuracy: 0.0411\n",
      "Epoch 00036: val_loss did not improve from -163.04608\n",
      "60000/60000 [==============================] - 5s 75us/sample - loss: -163.6300 - accuracy: 0.0411 - val_loss: -162.9756 - val_accuracy: 0.0437\n",
      "Epoch 37/50\n",
      "59648/60000 [============================>.] - ETA: 0s - loss: -163.6359 - accuracy: 0.0428\n",
      "Epoch 00037: val_loss did not improve from -163.04608\n",
      "60000/60000 [==============================] - 3s 53us/sample - loss: -163.6341 - accuracy: 0.0428 - val_loss: -162.9800 - val_accuracy: 0.0437\n",
      "Epoch 38/50\n",
      "59904/60000 [============================>.] - ETA: 0s - loss: -163.6813 - accuracy: 0.0419\n",
      "Epoch 00038: val_loss did not improve from -163.04608\n",
      "60000/60000 [==============================] - 3s 53us/sample - loss: -163.6774 - accuracy: 0.0419 - val_loss: -163.0458 - val_accuracy: 0.0437\n",
      "Epoch 39/50\n",
      "59392/60000 [============================>.] - ETA: 0s - loss: -163.7104 - accuracy: 0.0428\n",
      "Epoch 00039: val_loss did not improve from -163.04608\n",
      "60000/60000 [==============================] - 3s 52us/sample - loss: -163.7047 - accuracy: 0.0428 - val_loss: -163.0447 - val_accuracy: 0.0437\n",
      "Epoch 40/50\n",
      "59648/60000 [============================>.] - ETA: 0s - loss: -163.7078 - accuracy: 0.0428\n",
      "Epoch 00040: val_loss did not improve from -163.04608\n",
      "60000/60000 [==============================] - 3s 53us/sample - loss: -163.7062 - accuracy: 0.0428 - val_loss: -163.0447 - val_accuracy: 0.0437\n",
      "Epoch 41/50\n",
      "59648/60000 [============================>.] - ETA: 0s - loss: -163.7064 - accuracy: 0.0428\n",
      "Epoch 00041: val_loss did not improve from -163.04608\n",
      "60000/60000 [==============================] - 3s 53us/sample - loss: -163.7062 - accuracy: 0.0428 - val_loss: -163.0448 - val_accuracy: 0.0437\n",
      "Epoch 42/50\n",
      "59136/60000 [============================>.] - ETA: 0s - loss: -163.6739 - accuracy: 0.0396\n",
      "Epoch 00042: val_loss improved from -163.04608 to -163.04745, saving model to model.h5\n",
      "60000/60000 [==============================] - 4s 66us/sample - loss: -163.6728 - accuracy: 0.0396 - val_loss: -163.0475 - val_accuracy: 0.0389\n",
      "Epoch 43/50\n",
      "59392/60000 [============================>.] - ETA: 0s - loss: -163.6943 - accuracy: 0.0379\n",
      "Epoch 00043: val_loss did not improve from -163.04745\n",
      "60000/60000 [==============================] - 3s 53us/sample - loss: -163.6965 - accuracy: 0.0379 - val_loss: -163.0417 - val_accuracy: 0.0387\n",
      "Epoch 44/50\n",
      "59392/60000 [============================>.] - ETA: 0s - loss: -163.7071 - accuracy: 0.0379\n",
      "Epoch 00044: val_loss did not improve from -163.04745\n",
      "60000/60000 [==============================] - 4s 62us/sample - loss: -163.6952 - accuracy: 0.0379 - val_loss: -163.0393 - val_accuracy: 0.0389\n",
      "Epoch 45/50\n",
      "59648/60000 [============================>.] - ETA: 0s - loss: -163.6920 - accuracy: 0.0380\n",
      "Epoch 00045: val_loss did not improve from -163.04745\n",
      "60000/60000 [==============================] - 4s 62us/sample - loss: -163.6979 - accuracy: 0.0380 - val_loss: -163.0393 - val_accuracy: 0.0389\n",
      "Epoch 46/50\n",
      "59136/60000 [============================>.] - ETA: 0s - loss: -163.6776 - accuracy: 0.0381\n",
      "Epoch 00046: val_loss did not improve from -163.04745\n",
      "60000/60000 [==============================] - 4s 60us/sample - loss: -163.6979 - accuracy: 0.0380 - val_loss: -163.0394 - val_accuracy: 0.0389\n",
      "Epoch 47/50\n",
      "58880/60000 [============================>.] - ETA: 0s - loss: -163.7039 - accuracy: 0.0382\n",
      "Epoch 00047: val_loss did not improve from -163.04745\n",
      "60000/60000 [==============================] - 3s 58us/sample - loss: -163.6864 - accuracy: 0.0381 - val_loss: -163.0403 - val_accuracy: 0.0388\n",
      "Epoch 48/50\n",
      "59136/60000 [============================>.] - ETA: 0s - loss: -163.6936 - accuracy: 0.0382\n",
      "Epoch 00048: val_loss did not improve from -163.04745\n",
      "60000/60000 [==============================] - 3s 49us/sample - loss: -163.6942 - accuracy: 0.0382 - val_loss: -163.0404 - val_accuracy: 0.0388\n",
      "Epoch 49/50\n",
      "58880/60000 [============================>.] - ETA: 0s - loss: -163.7021 - accuracy: 0.0381\n",
      "Epoch 00049: val_loss did not improve from -163.04745\n",
      "60000/60000 [==============================] - 3s 50us/sample - loss: -163.6954 - accuracy: 0.0381 - val_loss: -163.0422 - val_accuracy: 0.0389\n",
      "Epoch 50/50\n",
      "59648/60000 [============================>.] - ETA: 0s - loss: -163.7009 - accuracy: 0.0380\n",
      "Epoch 00050: val_loss did not improve from -163.04745\n",
      "60000/60000 [==============================] - 3s 53us/sample - loss: -163.6964 - accuracy: 0.0380 - val_loss: -163.0422 - val_accuracy: 0.0389\n"
     ]
    }
   ],
   "source": [
    "#Since we are reconstructing the same image the X and the Y are the same\n",
    "history = autoencoder.fit(\n",
    "    X_train,\n",
    "    X_train,\n",
    "    epochs=50,\n",
    "    batch_size=256,\n",
    "    shuffle=True,\n",
    "    validation_data=(X_test,X_test),\n",
    "    verbose=1,\n",
    "    callbacks=[checkpoints, tb]\n",
    ")"
   ]
  },
  {
   "cell_type": "code",
   "execution_count": 78,
   "metadata": {},
   "outputs": [],
   "source": [
    "import matplotlib.pyplot as plt"
   ]
  },
  {
   "cell_type": "code",
   "execution_count": 79,
   "metadata": {},
   "outputs": [],
   "source": [
    "def show(x):\n",
    "    plt.imshow(np.clip(x+0.5,0,1))"
   ]
  },
  {
   "cell_type": "code",
   "execution_count": 80,
   "metadata": {},
   "outputs": [
    {
     "data": {
      "image/png": "[encoded data removed]",
      "text/plain": [
       "<Figure size 432x288 with 1 Axes>"
      ]
     },
     "metadata": {
      "needs_background": "light"
     },
     "output_type": "display_data"
    }
   ],
   "source": [
    "show(X_train[0])"
   ]
  },
  {
   "cell_type": "code",
   "execution_count": 81,
   "metadata": {},
   "outputs": [
    {
     "data": {
      "text/plain": [
       "array([[[-3.5226586e-01, -6.9608498e-01, -4.0988556e-01, ...,\n",
       "         -6.6255838e-01,  1.2104005e+00, -7.9353154e-01],\n",
       "        [-3.2852981e-02, -5.9844536e-01, -3.3117175e-01, ...,\n",
       "         -3.7087509e-01,  1.3390608e-01, -4.5836478e-02],\n",
       "        [-4.3824795e-01, -8.3215189e-01, -7.9897779e-01, ...,\n",
       "         -5.7799572e-01,  9.9481009e-03, -3.8958997e-01],\n",
       "        ...,\n",
       "        [-4.2421168e-01, -7.4576765e-01, -8.0327255e-01, ...,\n",
       "         -5.3277004e-01, -6.4318085e-01, -2.5627756e-01],\n",
       "        [-7.0811224e-01, -8.0120790e-01, -6.6705656e-01, ...,\n",
       "          2.3885901e+00, -1.1674107e+00, -3.8806918e-01],\n",
       "        [-4.9027616e-01, -6.4072526e-01, -1.3157170e-01, ...,\n",
       "         -7.3045814e-01, -4.4633675e-01, -8.1334329e-01]],\n",
       "\n",
       "       [[-5.4615635e-01, -2.0662978e-01, -2.9893771e-01, ...,\n",
       "         -5.5581862e-01, -1.2995864e+01, -6.8350144e-02],\n",
       "        [ 3.5582695e-02,  2.6531601e-01, -4.8762095e-01, ...,\n",
       "         -4.1142580e-01, -5.4475379e-01, -1.7970666e-01],\n",
       "        [-4.8773918e-01, -9.0659910e-01, -8.4601539e-01, ...,\n",
       "         -9.5442963e-01, -6.5621555e-01, -1.0095240e+00],\n",
       "        ...,\n",
       "        [-5.4082078e-01,  7.1435690e-02,  6.3370436e-02, ...,\n",
       "         -4.3569013e-01, -2.5126225e-01, -6.8332660e-01],\n",
       "        [-8.2836920e-01, -1.6735864e-01, -3.8882190e-01, ...,\n",
       "          6.6309266e+00, -1.1735295e+00, -5.5027819e-01],\n",
       "        [-1.4727461e+00, -5.1517016e-01, -8.9717621e-01, ...,\n",
       "         -9.2986602e-01, -3.5602865e-01, -4.2535879e-02]],\n",
       "\n",
       "       [[-5.0415778e-01, -6.5139866e-01, -6.2481827e-01, ...,\n",
       "         -7.1777493e-01,  1.4608868e+00, -7.2066045e-01],\n",
       "        [-4.9129158e-01, -3.1034473e-01, -4.9786866e-01, ...,\n",
       "         -5.5012941e-01,  5.9906369e-01,  2.4452060e-02],\n",
       "        [-2.5007360e-02, -8.6849064e-01, -8.4330845e-01, ...,\n",
       "         -2.2017372e-01,  2.2147897e-01, -8.8017471e-02],\n",
       "        ...,\n",
       "        [-5.0000310e-01, -7.2696728e-01, -1.2883042e-01, ...,\n",
       "         -5.2440012e-01, -6.4341187e-01, -4.1693780e-01],\n",
       "        [-4.7996238e-01, -7.7564132e-01, -5.5480659e-01, ...,\n",
       "          4.7863317e+00, -3.2277507e-01, -4.7788540e-01],\n",
       "        [-2.7086198e-01, -6.2512177e-01, -8.3850414e-02, ...,\n",
       "         -1.1573739e+00, -6.3534701e-01, -7.3173636e-01]],\n",
       "\n",
       "       ...,\n",
       "\n",
       "       [[-4.8491159e-01, -6.9934762e-01, -4.0908974e-01, ...,\n",
       "         -5.4537350e-01, -5.0869441e-01, -7.2572732e-01],\n",
       "        [-8.4096617e-01, -9.5027030e-01, -4.7996968e-01, ...,\n",
       "         -5.8725166e-01, -7.9463780e-01, -5.8235991e-01],\n",
       "        [-5.4522949e-01, -2.2066474e-01, -4.8856914e-01, ...,\n",
       "         -6.2851238e-01, -5.7469714e-01, -1.2583727e-01],\n",
       "        ...,\n",
       "        [-7.3295897e-01, -6.2430787e-01, -8.3248621e-01, ...,\n",
       "         -4.6678293e-01, -6.1181813e-01, -4.7552660e-01],\n",
       "        [-4.6796140e-01, -7.6840186e-01, -6.0758811e-01, ...,\n",
       "         -1.3153365e+00, -1.3292214e-01, -4.5152193e-01],\n",
       "        [-2.5441968e-01, -3.9789057e-01, -5.2194732e-01, ...,\n",
       "         -2.7356672e-01, -4.7921142e-01, -8.4736216e-01]],\n",
       "\n",
       "       [[-4.7295842e-01, -3.7127382e-01, -3.6237076e-01, ...,\n",
       "         -6.2314898e-01,  4.0037637e+00, -4.7964224e-01],\n",
       "        [-8.8739544e-01, -4.4933242e-01, -3.4494168e-01, ...,\n",
       "         -4.1060811e-01, -3.5040590e-01, -2.6570779e-01],\n",
       "        [-2.2823635e-01, -3.6478794e-01, -3.8595295e-01, ...,\n",
       "         -3.9790902e-01, -3.3551913e-01, -6.8291360e-01],\n",
       "        ...,\n",
       "        [-3.0379221e-01, -8.5292250e-01, -2.3549317e-01, ...,\n",
       "         -4.6938807e-01, -4.2056555e-01, -4.7126734e-01],\n",
       "        [-4.2306635e-01, -5.3602183e-01, -5.6161481e-01, ...,\n",
       "         -3.2432036e+00, -1.9467543e-01, -8.3178538e-01],\n",
       "        [-6.4337963e-01, -4.3338495e-01, -2.7788654e-01, ...,\n",
       "         -5.1779109e-01, -6.5770304e-01, -3.8430241e-01]],\n",
       "\n",
       "       [[-5.2033317e-01, -2.3866466e-01, -5.2935374e-01, ...,\n",
       "         -2.2746707e-01,  1.9380935e-01, -1.4251311e-01],\n",
       "        [-5.0939268e-01, -4.5857441e-01, -5.9120035e-01, ...,\n",
       "         -3.5129273e-01, -1.3752644e+00, -1.0119990e+00],\n",
       "        [-7.9933274e-01, -1.8220726e-01, -2.4357232e-01, ...,\n",
       "         -6.3050503e-01, -9.8442936e-01, -9.9397886e-01],\n",
       "        ...,\n",
       "        [-3.4676772e-01, -2.8751528e-01, -4.4438368e-01, ...,\n",
       "         -4.5683214e-01, -2.2664753e-01, -5.8981144e-01],\n",
       "        [-4.0857169e-01, -1.7491047e-01, -2.2231162e-01, ...,\n",
       "         -6.2971673e+00, -6.6749150e-01, -4.8150888e-01],\n",
       "        [-8.2423562e-01, -3.9684922e-01, -8.7590837e-01, ...,\n",
       "          7.3023960e-02, -5.6728190e-01, -1.1238054e-01]]], dtype=float32)"
      ]
     },
     "execution_count": 81,
     "metadata": {},
     "output_type": "execute_result"
    }
   ],
   "source": [
    "#expects batch size show like 1*28*28 but we have not give a batch size so, we add none\n",
    "autoencoder.predict(X_test[None][0])"
   ]
  },
  {
   "cell_type": "code",
   "execution_count": 82,
   "metadata": {},
   "outputs": [],
   "source": [
    "def visualize(img,encoder,decoder):\n",
    "    bottleneck = encoder.predict(img[None])[0]\n",
    "    print(bottleneck.shape)\n",
    "    print(bottleneck[None].shape)\n",
    "    reconstruction = decoder.predict(bottleneck[None])[0]\n",
    "   \n",
    "    plt.subplot(1,3,1)\n",
    "    show(img)\n",
    "    \n",
    "    plt.subplot(1,3,2)\n",
    "    plt.imshow(bottleneck.reshape((bottleneck.shape[-1],1)))\n",
    "    \n",
    "    plt.subplot(1,3,3)\n",
    "    plt.imshow(reconstruction)\n",
    "    \n",
    "    plt.show()\n",
    "    "
   ]
  },
  {
   "cell_type": "code",
   "execution_count": 83,
   "metadata": {},
   "outputs": [
    {
     "name": "stdout",
     "output_type": "stream",
     "text": [
      "(32,)\n",
      "(1, 32)\n"
     ]
    },
    {
     "data": {
      "image/png": "[encoded data removed]",
      "text/plain": [
       "<Figure size 432x288 with 3 Axes>"
      ]
     },
     "metadata": {
      "needs_background": "light"
     },
     "output_type": "display_data"
    },
    {
     "name": "stdout",
     "output_type": "stream",
     "text": [
      "(32,)\n",
      "(1, 32)\n"
     ]
    },
    {
     "data": {
      "image/png": "[encoded data removed]",
      "text/plain": [
       "<Figure size 432x288 with 3 Axes>"
      ]
     },
     "metadata": {
      "needs_background": "light"
     },
     "output_type": "display_data"
    },
    {
     "name": "stdout",
     "output_type": "stream",
     "text": [
      "(32,)\n",
      "(1, 32)\n"
     ]
    },
    {
     "data": {
      "image/png": "[encoded data removed]",
      "text/plain": [
       "<Figure size 432x288 with 3 Axes>"
      ]
     },
     "metadata": {
      "needs_background": "light"
     },
     "output_type": "display_data"
    },
    {
     "name": "stdout",
     "output_type": "stream",
     "text": [
      "(32,)\n",
      "(1, 32)\n"
     ]
    },
    {
     "data": {
      "image/png": "[encoded data removed]",
      "text/plain": [
       "<Figure size 432x288 with 3 Axes>"
      ]
     },
     "metadata": {
      "needs_background": "light"
     },
     "output_type": "display_data"
    },
    {
     "name": "stdout",
     "output_type": "stream",
     "text": [
      "(32,)\n",
      "(1, 32)\n"
     ]
    },
    {
     "data": {
      "image/png": "[encoded data removed]",
      "text/plain": [
       "<Figure size 432x288 with 3 Axes>"
      ]
     },
     "metadata": {
      "needs_background": "light"
     },
     "output_type": "display_data"
    }
   ],
   "source": [
    "for i in range(5):\n",
    "    img = X_test[i]\n",
    "    visualize(img,encoder,decoder)"
   ]
  },
  {
   "cell_type": "code",
   "execution_count": null,
   "metadata": {},
   "outputs": [],
   "source": []
  }
 ],
 "metadata": {
  "kernelspec": {
   "display_name": "Python 3",
   "language": "python",
   "name": "python3"
  },
  "language_info": {
   "codemirror_mode": {
    "name": "ipython",
    "version": 3
   },
   "file_extension": ".py",
   "mimetype": "text/x-python",
   "name": "python",
   "nbconvert_exporter": "python",
   "pygments_lexer": "ipython3",
   "version": "3.6.8"
  }
 },
 "nbformat": 4,
 "nbformat_minor": 2
}
